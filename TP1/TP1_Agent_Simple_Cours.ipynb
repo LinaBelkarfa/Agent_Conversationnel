{
 "cells": [
  {
   "cell_type": "markdown",
   "metadata": {},
   "source": [
    "### AGENT REFLEXE SIMPLE"
   ]
  },
  {
   "cell_type": "markdown",
   "metadata": {},
   "source": [
    "#### Écrire en python le programme de l’agent-aspirateur-réflexe simple dont l’emplacement initial (salles A ou B) est aléatoire. \n",
    "#### Il en est de même pour l’état des salles (sale ou propre).!"
   ]
  },
  {
   "cell_type": "code",
   "execution_count": 1,
   "metadata": {},
   "outputs": [],
   "source": [
    "#Nettoie si c'est sale, passe à la sale suivante sinon\n",
    "def Agent_Aspirateur_Reflex(emplacement, etat):\n",
    "    if etat == 'sale':\n",
    "        return 'Aspirer'\n",
    "    elif emplacement =='A':\n",
    "        return 'Droite'\n",
    "    elif emplacement =='B':\n",
    "        return 'Gauche'"
   ]
  },
  {
   "cell_type": "code",
   "execution_count": 2,
   "metadata": {},
   "outputs": [
    {
     "data": {
      "text/plain": [
       "['Aspirer', 'Droite', 'Aspirer', 'Gauche']"
      ]
     },
     "execution_count": 2,
     "metadata": {},
     "output_type": "execute_result"
    }
   ],
   "source": [
    "#on test tous les cas de figures\n",
    "[Agent_Aspirateur_Reflex('A','sale'), #A est Sale donc il va aspirer\n",
    "Agent_Aspirateur_Reflex('A','propre'),#A est propre donc il va tourner à droite (vers B)\n",
    " Agent_Aspirateur_Reflex('B','sale'), #B est sale donc il va aspirer\n",
    "Agent_Aspirateur_Reflex('B','propre')]#B est propre donc il va tourner à gauche (vers A)"
   ]
  },
  {
   "cell_type": "markdown",
   "metadata": {},
   "source": [
    "### Agents réflexes avec état interne"
   ]
  },
  {
   "cell_type": "markdown",
   "metadata": {},
   "source": [
    "#### Écrire en python le programme de l’agent-aspirateur-réflexe avec état interne, par exemple, l’agent a un “moyen” pour savoir si une salle a déjà été nettoyé ou pas. L’emplacement initial de l’aspirateur (en salles A ou B) est aléatoire. Il en est de même pour l’état des salles (sale ou propre)."
   ]
  },
  {
   "cell_type": "code",
   "execution_count": 4,
   "metadata": {},
   "outputs": [],
   "source": [
    "from random import *"
   ]
  },
  {
   "cell_type": "markdown",
   "metadata": {},
   "source": [
    "#### Création de l'état de départ de manière Aléatoire (quelle salle en première et quelle état de départ pour chaque salle)"
   ]
  },
  {
   "cell_type": "code",
   "execution_count": 62,
   "metadata": {},
   "outputs": [
    {
     "name": "stdout",
     "output_type": "stream",
     "text": [
      "---------- TIRAGE ----------\n",
      "Etat de Départ tiré aléatoirement :  [('B', 'propre'), ('A', 'sale')]\n",
      "Le robot se trouve en salle : B\n",
      "L'état de la salle est      : propre\n",
      "---------- ETAPES ----------\n",
      " - La salle B est déjà propre\n",
      " - Aspirer la salle  A\n",
      " - Tourner à Droite\n",
      "---------- TERMINE ----------\n",
      "L'état final des salles est : \n",
      "[['B', 'propre'], ['A', 'propre']]\n"
     ]
    }
   ],
   "source": [
    "#----------------------- ETAT INITIAL -------------------------------------# \n",
    "# Emplacement du robot et etat des salles au départ\n",
    "\n",
    "PerceptionA= [('A','sale'),('A','propre')] #permettra de tirer au hasard l'état de départ de A\n",
    "PerceptionB=[('B','sale'),('B','propre')]  #permettra de tirer au hasard l'état de départ de B\n",
    "\n",
    "\n",
    "Salle= choice(['PerceptionA', 'PerceptionB'])  #Choisi au hasard si le départ est en A ou B\n",
    "\n",
    "Perception=[] \n",
    "\n",
    "if Salle == 'PerceptionA':    #Si au départ on est en salle A\n",
    "    Perception.append(choice(PerceptionA)) #on regarde en premier l'état de départ de A\n",
    "    Perception.append(choice(PerceptionB)) #puis en second l'état de départ de B\n",
    "else:\n",
    "    Perception.append(choice(PerceptionB)) #si on est en salle B on fait d'abord B puis A\n",
    "    Perception.append(choice(PerceptionA))\n",
    "    \n",
    "#On cré un vecteur qui contient l'état de départ des salles, et l'ordre dans lequel on doit les faire\n",
    "print(\"---------- TIRAGE ----------\")\n",
    "print(\"Etat de Départ tiré aléatoirement : \",Perception)\n",
    "\n",
    "#------------------------ FONCTION DE NETTOYAGE ------------------------------------# \n",
    "\n",
    "\n",
    "def Agent_Aspirateur_Reflex_Etat(Perception):\n",
    "    PerceptionFinal=[\n",
    "                     [Perception[0][0],Perception[0][1]],\n",
    "                     [Perception[1][0],Perception[1][1]]\n",
    "                     ]\n",
    "    for i in range(len(Perception)):\n",
    "        if Perception[i][1] == 'sale':\n",
    "            print(\" - Aspirer la salle \", Perception[i][0])\n",
    "            PerceptionFinal[i][1]=\"propre\" #si la salle est sale, on la néttoie et on la met en propre\n",
    "            \n",
    "            if Perception[i][0] =='A':  #et si on était dans la salle A on va à droite\n",
    "                print(\" - Tourner à Droite\")\n",
    "            else:\n",
    "                print(\" - Tourner à Gauche\") #sinon on va à gauche\n",
    "            \n",
    "        else:\n",
    "            print(\" - La salle \"+ Perception[i][0] + \" est déjà propre\")\n",
    "    \n",
    "    \n",
    "    print(\"---------- TERMINE ----------\")\n",
    "    print(\"L'état final des salles est : \")\n",
    "    print(PerceptionFinal)\n",
    "\n",
    "\n",
    "\n",
    "#------------------------ INITIALISATION ------------------------------------# \n",
    "\n",
    "PerceptionDepart=[Perception[0][0],Perception[0][1],Perception[1][0],Perception[1][1]]\n",
    "\n",
    "print(\"Le robot se trouve en salle :\", PerceptionDepart[0])\n",
    "print(\"L'état de la salle est      :\", PerceptionDepart[1])\n",
    "print(\"---------- ETAPES ----------\")\n",
    "Agent_Aspirateur_Reflex_Etat(Perception) \n",
    "\n"
   ]
  },
  {
   "cell_type": "markdown",
   "metadata": {},
   "source": [
    "### Agent réflexe avec état interne et but.\n",
    "\n",
    "#### Écrire en python le programme de l’agent-aspirateur-réflexe avec état interne et but. \n",
    "#### Le but : QUE TOUTES LES SALLES SOIENT PROPRES"
   ]
  },
  {
   "cell_type": "code",
   "execution_count": 71,
   "metadata": {},
   "outputs": [
    {
     "name": "stdout",
     "output_type": "stream",
     "text": [
      "---------- TIRAGE ----------\n",
      "Etat de Départ tiré aléatoirement :  [('B', 'sale'), ('A', 'propre')]\n",
      "Le robot se trouve en salle : B\n",
      "L'état de la salle est      : sale\n",
      "---------- ETAPES ----------\n",
      " - Aspirer la salle  B\n",
      " - La salle B est propre\n",
      " - Tourner à Gauche\n",
      " - La salle A est propre\n",
      " - Tourner à Droite\n",
      "Toutes les salles sont propres !\n",
      "---------- TERMINE ----------\n",
      "L'état final des salles est : \n",
      "[['B', 'propre'], ['A', 'propre']]\n"
     ]
    }
   ],
   "source": [
    "#----------------------- ETAT INITIAL -------------------------------------# \n",
    "# Emplacement du robot et etat des salles au départ\n",
    "\n",
    "PerceptionA= [('A','sale'),('A','propre')] #permettra de tirer au hasard l'état de départ de A\n",
    "PerceptionB=[('B','sale'),('B','propre')]  #permettra de tirer au hasard l'état de départ de B\n",
    "\n",
    "\n",
    "Salle= choice(['PerceptionA', 'PerceptionB'])  #Choisi au hasard si le départ est en A ou B\n",
    "\n",
    "Perception=[] \n",
    "\n",
    "if Salle == 'PerceptionA':    #Si au départ on est en salle A\n",
    "    Perception.append(choice(PerceptionA)) #on regarde en premier l'état de départ de A\n",
    "    Perception.append(choice(PerceptionB)) #puis en second l'état de départ de B\n",
    "else:\n",
    "    Perception.append(choice(PerceptionB)) #si on est en salle B on fait d'abord B puis A\n",
    "    Perception.append(choice(PerceptionA))\n",
    "    \n",
    "#On cré un vecteur qui contient l'état de départ des salles, et l'ordre dans lequel on doit les faire\n",
    "print(\"---------- TIRAGE ----------\")\n",
    "print(\"Etat de Départ tiré aléatoirement : \",Perception)\n",
    "\n",
    "#------------------------ FONCTION DE NETTOYAGE ------------------------------------# \n",
    "\n",
    "\n",
    "def Agent_Reflex_Fonde_Modele(Perception):\n",
    "    Perception=[[Perception[0][0],Perception[0][1]],\n",
    "                [Perception[1][0],Perception[1][1]]\n",
    "                ]\n",
    "    \n",
    "    for salle in Perception:\n",
    "        while 'sale' in salle:   #Tant qu'il y a \"sale\" dans perception\n",
    "                print(\" - Aspirer la salle \", salle[0])\n",
    "                salle[1]=\"propre\" #si la salle est sale, on la néttoie et on la met en propre\n",
    "        print(\" - La salle \"+ salle[0] + \" est propre\")\n",
    "\n",
    "        if salle[0] =='A':  #et si on était dans la salle A on va à droite\n",
    "            print(\" - Tourner à Droite\")\n",
    "        else:\n",
    "            print(\" - Tourner à Gauche\") #sinon on va à gauche\n",
    "    \n",
    "\n",
    "    print(\"Toutes les salles sont propres !\")\n",
    "\n",
    "    print(\"---------- TERMINE ----------\")\n",
    "    print(\"L'état final des salles est : \")\n",
    "    print(Perception)\n",
    "\n",
    "\n",
    "\n",
    "#------------------------ INITIALISATION ------------------------------------# \n",
    "\n",
    "PerceptionDepart=[Perception[0][0],Perception[0][1],Perception[1][0],Perception[1][1]]\n",
    "\n",
    "print(\"Le robot se trouve en salle :\", PerceptionDepart[0])\n",
    "print(\"L'état de la salle est      :\", PerceptionDepart[1])\n",
    "print(\"---------- ETAPES ----------\")\n",
    "Agent_Reflex_Fonde_Modele(Perception) \n",
    "\n"
   ]
  },
  {
   "cell_type": "code",
   "execution_count": null,
   "metadata": {},
   "outputs": [],
   "source": []
  },
  {
   "cell_type": "raw",
   "metadata": {},
   "source": []
  },
  {
   "cell_type": "code",
   "execution_count": null,
   "metadata": {},
   "outputs": [],
   "source": [
    "# J'essaie de prendre en compte les distance entre les salles \n",
    "# Pas eu le temps de faire cela "
   ]
  },
  {
   "cell_type": "code",
   "execution_count": 153,
   "metadata": {},
   "outputs": [
    {
     "name": "stdout",
     "output_type": "stream",
     "text": [
      "     A    B    C    D\n",
      "A  0.0  6.0  5.0  5.5\n",
      "B  6.0  0.0  6.0  2.0\n",
      "C  5.0  6.0  0.0  4.5\n",
      "D  5.5  2.0  4.5  0.0\n",
      "Salle de départ :  D\n",
      "Etat de départ :  [['A', 'sale'], ['B', 'sale'], ['C', 'propre'], ['D', 'propre']]\n"
     ]
    }
   ],
   "source": [
    "import numpy as np\n",
    "import pandas as pd\n",
    "\n",
    "#----------------------- ETAT INITIAL -------------------------------------# \n",
    "# Emplacement du robot et etat des salles au départ\n",
    "PerceptionA=[['A','sale'],['A','propre']]\n",
    "PerceptionB=[['B','sale'],['B','propre']]\n",
    "PerceptionC=[['C','sale'],['C','propre']]\n",
    "PerceptionD=[['D','sale'],['D','propre']]\n",
    "\n",
    "NomSalles = [PerceptionA[0][0], PerceptionB[0][0], PerceptionC[0][0], PerceptionD[0][0] ]\n",
    "\n",
    "N= len(NomSalles)\n",
    "b = np.random.randint(1,10,size=(N,N))\n",
    "distance = (b + b.T)/2\n",
    "distanceSalles = pd.DataFrame(distance, columns = NomSalles)\n",
    "distanceSalles.index = NomSalles\n",
    "Distance_Matrix = distanceSalles\n",
    "\n",
    "#on met zero à la diagonale car la distance d'une salle à elle meme est zero\n",
    "Distance_Matrix.loc[['A'],['A']] = 0\n",
    "Distance_Matrix.loc[['B'],['B']] = 0\n",
    "Distance_Matrix.loc[['C'],['C']] = 0\n",
    "Distance_Matrix.loc[['D'],['D']] = 0\n",
    "\n",
    "# Distance entre les salles\n",
    "print(Distance_Matrix)\n",
    "#print(\"Distance entre Salle A et B : \\n\", Distance_Matrix.loc[['A'],['B']], \"m\")\n",
    "#print(\"Distance entre Salle A et C : \\n\", Distance_Matrix.loc[['A'],['C']], \"m\")\n",
    "#print(\"Distance entre Salle A et D : \\n\", Distance_Matrix.loc[['A'],['D']], \"m\")\n",
    "\n",
    "#Salle de Départ\n",
    "PremiereSalle= choice(NomSalles)\n",
    "print(\"Salle de départ : \",PremiereSalle)\n",
    "\n",
    "EtatDeDepart= [choice(PerceptionA),choice(PerceptionB),choice(PerceptionC),choice(PerceptionD)]\n",
    "print(\"Etat de départ : \",EtatDeDepart)\n",
    "\n",
    "#Agent_Reflex_Dist(PremieresSalle)"
   ]
  },
  {
   "cell_type": "code",
   "execution_count": 175,
   "metadata": {},
   "outputs": [
    {
     "data": {
      "text/html": [
       "<div>\n",
       "<style scoped>\n",
       "    .dataframe tbody tr th:only-of-type {\n",
       "        vertical-align: middle;\n",
       "    }\n",
       "\n",
       "    .dataframe tbody tr th {\n",
       "        vertical-align: top;\n",
       "    }\n",
       "\n",
       "    .dataframe thead th {\n",
       "        text-align: right;\n",
       "    }\n",
       "</style>\n",
       "<table border=\"1\" class=\"dataframe\">\n",
       "  <thead>\n",
       "    <tr style=\"text-align: right;\">\n",
       "      <th></th>\n",
       "      <th>A</th>\n",
       "      <th>B</th>\n",
       "      <th>C</th>\n",
       "      <th>D</th>\n",
       "    </tr>\n",
       "  </thead>\n",
       "  <tbody>\n",
       "    <tr>\n",
       "      <th>A</th>\n",
       "      <td>0.0</td>\n",
       "      <td>6.0</td>\n",
       "      <td>5.0</td>\n",
       "      <td>5.5</td>\n",
       "    </tr>\n",
       "    <tr>\n",
       "      <th>B</th>\n",
       "      <td>6.0</td>\n",
       "      <td>0.0</td>\n",
       "      <td>6.0</td>\n",
       "      <td>2.0</td>\n",
       "    </tr>\n",
       "    <tr>\n",
       "      <th>C</th>\n",
       "      <td>5.0</td>\n",
       "      <td>6.0</td>\n",
       "      <td>0.0</td>\n",
       "      <td>4.5</td>\n",
       "    </tr>\n",
       "    <tr>\n",
       "      <th>D</th>\n",
       "      <td>5.5</td>\n",
       "      <td>2.0</td>\n",
       "      <td>4.5</td>\n",
       "      <td>0.0</td>\n",
       "    </tr>\n",
       "  </tbody>\n",
       "</table>\n",
       "</div>"
      ],
      "text/plain": [
       "     A    B    C    D\n",
       "A  0.0  6.0  5.0  5.5\n",
       "B  6.0  0.0  6.0  2.0\n",
       "C  5.0  6.0  0.0  4.5\n",
       "D  5.5  2.0  4.5  0.0"
      ]
     },
     "execution_count": 175,
     "metadata": {},
     "output_type": "execute_result"
    }
   ],
   "source": [
    "Distance_Matrix"
   ]
  },
  {
   "cell_type": "code",
   "execution_count": 191,
   "metadata": {},
   "outputs": [
    {
     "data": {
      "text/plain": [
       "D    2.0\n",
       "dtype: float64"
      ]
     },
     "execution_count": 191,
     "metadata": {},
     "output_type": "execute_result"
    }
   ],
   "source": [
    "Distance_Matrix.loc[[PremiereSalle],Distance_Matrix.columns!=PremiereSalle].min(axis=1)\n"
   ]
  },
  {
   "cell_type": "markdown",
   "metadata": {},
   "source": [
    "### Algorithme de Dijkstra\n",
    "Pas eu le temps de faire un robot avec cette algo "
   ]
  },
  {
   "cell_type": "code",
   "execution_count": 167,
   "metadata": {},
   "outputs": [
    {
     "name": "stdout",
     "output_type": "stream",
     "text": [
      "Visite de la salle A\n",
      "Met à jour la salle B avec la distance : 135\n",
      "Met à jour la salle C avec la distance : 4\n",
      "Visite de la salle B\n",
      "Met à jour la salle E avec la distance : 140\n",
      "Visite de la salle C\n",
      "Met à jour la salle D avec la distance : 6\n",
      "Visite de la salle E\n",
      "Visite de la salle E\n",
      "Visite de la salle D\n",
      "Met à jour la salle E avec la distance : 9\n",
      "Visite de la salle E\n",
      "Distances{'A': 0, 'B': 135, 'C': 4, 'E': 9, 'D': 6}\n"
     ]
    }
   ],
   "source": [
    "from collections import deque\n",
    "\n",
    "def dijkstraAlgo(graph, vertex):\n",
    "    queue = deque([vertex])\n",
    "    distance = {vertex: 0}\n",
    "    while queue:\n",
    "        t = queue.popleft()\n",
    "        print(\"Visite de la salle \" + str(t))\n",
    "        for voisin in graph[t]:\n",
    "                queue.append(voisin)\n",
    "                nouvelle_distance = distance[t] + graph[t][voisin]\n",
    "                if(voisin not in distance or nouvelle_distance < distance[voisin]):\n",
    "                    distance[voisin] = nouvelle_distance\n",
    "                    print(\"Met à jour la salle \" + str(voisin) + \" avec la distance : \" + str(nouvelle_distance))\n",
    "                    \n",
    "    return distance\n",
    "\n",
    "\n",
    "\n",
    "#Liste d'ajacence du graphe des salles\n",
    "graph = {'A':{'B':135,'C':4},'B':{'E':5},'C':{'E':161,'D':2},'D':{'E':3},'E':{}}\n",
    "distance = dijkstraAlgo(graph,'A')\n",
    "print(\"Distances\" + str(distance))"
   ]
  },
  {
   "cell_type": "code",
   "execution_count": null,
   "metadata": {},
   "outputs": [],
   "source": []
  },
  {
   "cell_type": "code",
   "execution_count": null,
   "metadata": {},
   "outputs": [],
   "source": []
  },
  {
   "cell_type": "code",
   "execution_count": null,
   "metadata": {},
   "outputs": [],
   "source": []
  },
  {
   "cell_type": "code",
   "execution_count": null,
   "metadata": {},
   "outputs": [],
   "source": []
  },
  {
   "cell_type": "code",
   "execution_count": null,
   "metadata": {},
   "outputs": [],
   "source": []
  },
  {
   "cell_type": "code",
   "execution_count": null,
   "metadata": {},
   "outputs": [],
   "source": []
  },
  {
   "cell_type": "code",
   "execution_count": null,
   "metadata": {},
   "outputs": [],
   "source": []
  },
  {
   "cell_type": "code",
   "execution_count": null,
   "metadata": {},
   "outputs": [],
   "source": []
  }
 ],
 "metadata": {
  "kernelspec": {
   "display_name": "Python 3",
   "language": "python",
   "name": "python3"
  },
  "language_info": {
   "codemirror_mode": {
    "name": "ipython",
    "version": 3
   },
   "file_extension": ".py",
   "mimetype": "text/x-python",
   "name": "python",
   "nbconvert_exporter": "python",
   "pygments_lexer": "ipython3",
   "version": "3.8.5"
  }
 },
 "nbformat": 4,
 "nbformat_minor": 4
}
