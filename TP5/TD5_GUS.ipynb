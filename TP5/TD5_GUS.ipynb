{
 "cells": [
  {
   "cell_type": "code",
   "execution_count": 10,
   "id": "100ee6fd",
   "metadata": {
    "scrolled": true
   },
   "outputs": [
    {
     "name": "stdout",
     "output_type": "stream",
     "text": [
      "Requirement already satisfied: snips-nlu in /Users/jean/.pyenv/versions/3.8.6/lib/python3.8/site-packages (0.20.2)\n",
      "Requirement already satisfied: future<0.18,>=0.16 in /Users/jean/.pyenv/versions/3.8.6/lib/python3.8/site-packages (from snips-nlu) (0.17.1)\n",
      "Requirement already satisfied: pyaml<20.0,>=17.0 in /Users/jean/.pyenv/versions/3.8.6/lib/python3.8/site-packages (from snips-nlu) (19.12.0)\n",
      "Requirement already satisfied: scikit-learn<0.23,>=0.21.1 in /Users/jean/.pyenv/versions/3.8.6/lib/python3.8/site-packages (from snips-nlu) (0.22.2.post1)\n",
      "Requirement already satisfied: snips-nlu-parsers<0.5,>=0.3.1 in /Users/jean/.pyenv/versions/3.8.6/lib/python3.8/site-packages (from snips-nlu) (0.4.3)\n",
      "Requirement already satisfied: num2words<0.6,>=0.5.6 in /Users/jean/.pyenv/versions/3.8.6/lib/python3.8/site-packages (from snips-nlu) (0.5.10)\n",
      "Requirement already satisfied: sklearn-crfsuite<0.4,>=0.3.6 in /Users/jean/.pyenv/versions/3.8.6/lib/python3.8/site-packages (from snips-nlu) (0.3.6)\n",
      "Requirement already satisfied: requests<3.0,>=2.0 in /Users/jean/.pyenv/versions/3.8.6/lib/python3.8/site-packages (from snips-nlu) (2.26.0)\n",
      "Requirement already satisfied: scipy<2.0,>=1.0 in /Users/jean/.pyenv/versions/3.8.6/lib/python3.8/site-packages (from snips-nlu) (1.7.3)\n",
      "Requirement already satisfied: numpy<2.0,>=1.15 in /Users/jean/.pyenv/versions/3.8.6/lib/python3.8/site-packages (from snips-nlu) (1.20.3)\n",
      "Requirement already satisfied: snips-nlu-utils<0.10,>=0.9 in /Users/jean/.pyenv/versions/3.8.6/lib/python3.8/site-packages (from snips-nlu) (0.9.1)\n",
      "Requirement already satisfied: deprecation<3.0,>=2.0 in /Users/jean/.pyenv/versions/3.8.6/lib/python3.8/site-packages (from snips-nlu) (2.1.0)\n",
      "Requirement already satisfied: packaging in /Users/jean/.pyenv/versions/3.8.6/lib/python3.8/site-packages (from deprecation<3.0,>=2.0->snips-nlu) (21.3)\n",
      "Requirement already satisfied: docopt>=0.6.2 in /Users/jean/.pyenv/versions/3.8.6/lib/python3.8/site-packages (from num2words<0.6,>=0.5.6->snips-nlu) (0.6.2)\n",
      "Requirement already satisfied: PyYAML in /Users/jean/.pyenv/versions/3.8.6/lib/python3.8/site-packages (from pyaml<20.0,>=17.0->snips-nlu) (6.0)\n",
      "Requirement already satisfied: certifi>=2017.4.17 in /Users/jean/.pyenv/versions/3.8.6/lib/python3.8/site-packages (from requests<3.0,>=2.0->snips-nlu) (2021.10.8)\n",
      "Requirement already satisfied: idna<4,>=2.5 in /Users/jean/.pyenv/versions/3.8.6/lib/python3.8/site-packages (from requests<3.0,>=2.0->snips-nlu) (3.3)\n",
      "Requirement already satisfied: urllib3<1.27,>=1.21.1 in /Users/jean/.pyenv/versions/3.8.6/lib/python3.8/site-packages (from requests<3.0,>=2.0->snips-nlu) (1.26.7)\n",
      "Requirement already satisfied: charset-normalizer~=2.0.0 in /Users/jean/.pyenv/versions/3.8.6/lib/python3.8/site-packages (from requests<3.0,>=2.0->snips-nlu) (2.0.7)\n",
      "Requirement already satisfied: joblib>=0.11 in /Users/jean/.pyenv/versions/3.8.6/lib/python3.8/site-packages (from scikit-learn<0.23,>=0.21.1->snips-nlu) (1.1.0)\n",
      "Requirement already satisfied: tabulate in /Users/jean/.pyenv/versions/3.8.6/lib/python3.8/site-packages (from sklearn-crfsuite<0.4,>=0.3.6->snips-nlu) (0.8.9)\n",
      "Requirement already satisfied: python-crfsuite>=0.8.3 in /Users/jean/.pyenv/versions/3.8.6/lib/python3.8/site-packages (from sklearn-crfsuite<0.4,>=0.3.6->snips-nlu) (0.9.7)\n",
      "Requirement already satisfied: tqdm>=2.0 in /Users/jean/.pyenv/versions/3.8.6/lib/python3.8/site-packages (from sklearn-crfsuite<0.4,>=0.3.6->snips-nlu) (4.62.3)\n",
      "Requirement already satisfied: six in /Users/jean/.pyenv/versions/3.8.6/lib/python3.8/site-packages (from sklearn-crfsuite<0.4,>=0.3.6->snips-nlu) (1.16.0)\n",
      "Requirement already satisfied: pyparsing!=3.0.5,>=2.0.2 in /Users/jean/.pyenv/versions/3.8.6/lib/python3.8/site-packages (from packaging->deprecation<3.0,>=2.0->snips-nlu) (3.0.6)\n"
     ]
    }
   ],
   "source": [
    "!pip install snips-nlu"
   ]
  },
  {
   "cell_type": "markdown",
   "id": "9c6c2b05",
   "metadata": {},
   "source": [
    "# Agent_Conversationnel\n",
    "Projet M2 - Agent conversationnel \n",
    "\n",
    "\n",
    "### TP5\n",
    "#### Dans cette séance, vous devez créer un GUS organisateur de voyage pour qu'il soit en mesure de faire les réservations demandées par l'utilisateur. \n",
    "\n",
    "Vous avez deux possibilités :\n",
    "* soit (1) de construire votre agent à partir de zéro avec vos choix de structure de données,\n",
    "* soit (2) d'adapter votre actuelle version d'Eliza, i.e. adapter le script .txt et le code pour qu'il prenne en compte les modifications dans le script. Si vous partez d'Eliza . . . Travail à faire\n",
    "Il serait préférable que le comportement de l'agent soit parametré grâce à un fichier externe comme c'etait le cas pour Eliza. Ce fichier contiendrait la définition des cadres, de leur slots, etc.\n",
    "\n",
    "  1. Pensez à modifier le script pour qu'il soit possible de représenter le(s) cadre(s) du GUS. Pensez aussi à modifier le code pour qu'il prenne en compte ces modifications. N'oubliez\n",
    "pas qu'un cadre peut être hiérarchique i.e. un slot peut avoir un cadre comme valeur. En guise d'exemple, traitez le cas du slot date.\n",
    "  2. Proposer une solution pour traiter au moins un cas de réponses multiples. Pensez à l'exemple vu en cours d'une réponse concernant plusieurs slots : J'aimerais un vol aller simple de Paris à Nice, avec départ après 17 heures le mardi.\n",
    "\n",
    "Suggestion : inspirez vous des patrons et des règles de transformation d'Eliza pour extraire les informations des réponses de l'utilisateur et les affecter aux slots appropriés. \n",
    "\n"
   ]
  },
  {
   "cell_type": "code",
   "execution_count": 1,
   "id": "08b6cc4f",
   "metadata": {},
   "outputs": [],
   "source": [
    "from snips_nlu import SnipsNLUEngine\n",
    "\n",
    "default_engine = SnipsNLUEngine()"
   ]
  },
  {
   "cell_type": "markdown",
   "id": "d908596b",
   "metadata": {},
   "source": [
    "On récupère le modèle pré-entrainé pour les question sur les réservation de vols"
   ]
  },
  {
   "cell_type": "code",
   "execution_count": 2,
   "id": "4223d6a9",
   "metadata": {},
   "outputs": [],
   "source": [
    "loaded_engine = SnipsNLUEngine.from_path(\"GUS-PRO/model/output_trained_engine\")"
   ]
  },
  {
   "cell_type": "markdown",
   "id": "e32bcbe8",
   "metadata": {},
   "source": [
    "# Questions à tester :\n",
    "\n",
    "    - I want to go from Paris to NYC on december 22\n",
    "    - I want to book a flight from Nice to Paris on next saturday\n",
    "    - I want to go from Paris to NYC on december 22\n",
    "    - I want to book a flight from Paris CDG to Nice on friday at 22h00"
   ]
  },
  {
   "cell_type": "code",
   "execution_count": 3,
   "id": "9bdba84a",
   "metadata": {},
   "outputs": [
    {
     "name": "stdout",
     "output_type": "stream",
     "text": [
      "I want to book a flight from Paris CDG to Nice on friday at 22h00\n"
     ]
    },
    {
     "data": {
      "text/plain": [
       "{'input': 'I want to book a flight from Paris CDG to Nice on friday at 22h00',\n",
       " 'intent': {'intentName': 'bookFlight', 'probability': 0.5160912969136847},\n",
       " 'slots': [{'range': {'start': 29, 'end': 38},\n",
       "   'rawValue': 'Paris CDG',\n",
       "   'value': {'kind': 'Custom', 'value': 'Paris CDG'},\n",
       "   'entity': 'locality',\n",
       "   'slotName': 'departure'},\n",
       "  {'range': {'start': 42, 'end': 46},\n",
       "   'rawValue': 'Nice',\n",
       "   'value': {'kind': 'Custom', 'value': 'Nice'},\n",
       "   'entity': 'locality',\n",
       "   'slotName': 'destination'},\n",
       "  {'range': {'start': 47, 'end': 65},\n",
       "   'rawValue': 'on friday at 22h00',\n",
       "   'value': {'kind': 'InstantTime',\n",
       "    'value': '2021-12-10 00:00:00 +01:00',\n",
       "    'grain': 'Day',\n",
       "    'precision': 'Exact'},\n",
       "   'entity': 'snips/datetime',\n",
       "   'slotName': 'flight_datetime'}]}"
      ]
     },
     "execution_count": 3,
     "metadata": {},
     "output_type": "execute_result"
    }
   ],
   "source": [
    "question = input()\n",
    "loaded_engine.parse(str(question))"
   ]
  },
  {
   "cell_type": "code",
   "execution_count": null,
   "id": "fb361e00",
   "metadata": {},
   "outputs": [],
   "source": []
  },
  {
   "cell_type": "code",
   "execution_count": null,
   "id": "6d4c1d03",
   "metadata": {},
   "outputs": [],
   "source": []
  }
 ],
 "metadata": {
  "kernelspec": {
   "display_name": "Python 3 (ipykernel)",
   "language": "python",
   "name": "python3"
  },
  "language_info": {
   "codemirror_mode": {
    "name": "ipython",
    "version": 3
   },
   "file_extension": ".py",
   "mimetype": "text/x-python",
   "name": "python",
   "nbconvert_exporter": "python",
   "pygments_lexer": "ipython3",
   "version": "3.8.5"
  }
 },
 "nbformat": 4,
 "nbformat_minor": 5
}
